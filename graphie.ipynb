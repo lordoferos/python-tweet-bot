{
 "cells": [
  {
   "cell_type": "code",
   "execution_count": 16,
   "metadata": {},
   "outputs": [],
   "source": [
    "import tweepy\n",
    "\n",
    "# Authenticate to Twitter\n",
    "auth = tweepy.OAuthHandler(\"d4Jl6eH8AiYcXkuAwrgkM6gJ3\", \"Z5bhyKoDiOiKU9Uu9zPoxnKdAKShONdgsTkcKXeJLhuaJtqkSJ\")\n",
    "auth.set_access_token(\"892981240667807744-rfF45SbCK9Yu0byTPoVLxQTyEDMvg2g\", \"Mx67izXSpNVkhc4wHvwEAn90dknkHoq7dv0W9RRTf28di\")\n",
    "\n",
    "# Create API Object\n",
    "api = tweepy.API(auth)"
   ]
  },
  {
   "cell_type": "code",
   "execution_count": null,
   "metadata": {},
   "outputs": [],
   "source": [
    "timeline = api.home_timeline()\n",
    "for tweet in timeline:\n",
    "    print(f\"{tweet.user.name} said {tweet.text}\")"
   ]
  },
  {
   "cell_type": "code",
   "execution_count": null,
   "metadata": {},
   "outputs": [],
   "source": [
    "# Get new information on user\n",
    "user = api.get_user(\"orerochevvie\")\n",
    "\n",
    "print(\"User details:\")\n",
    "print(user.name)\n",
    "print(user.description)\n",
    "print(user.location)\n",
    "\n",
    "print(\"Last 20 Followers: \")\n",
    "for follower in user.followers():\n",
    "    print(follower.name)"
   ]
  },
  {
   "cell_type": "code",
   "execution_count": null,
   "metadata": {},
   "outputs": [],
   "source": [
    "# Start following shobanes\n",
    "api.create_friendship(\"shobanes\")"
   ]
  },
  {
   "cell_type": "code",
   "execution_count": null,
   "metadata": {},
   "outputs": [],
   "source": [
    "api.update_profile(description = \"Trapped, still wiggling free\")"
   ]
  },
  {
   "cell_type": "code",
   "execution_count": null,
   "metadata": {},
   "outputs": [],
   "source": [
    "tweets = api.home_timeline(count = 1)\n",
    "tweet = tweets[0]\n",
    "print(f\"Liking tweet {tweet.id} of {tweet.author.name}\")\n",
    "api.create_favorite(tweet.id)"
   ]
  },
  {
   "cell_type": "code",
   "execution_count": null,
   "metadata": {},
   "outputs": [],
   "source": [
    "for block in api.blocks():\n",
    "    print(block.name)"
   ]
  },
  {
   "cell_type": "code",
   "execution_count": null,
   "metadata": {},
   "outputs": [],
   "source": [
    "# try code to search 10 most recent public tweets that contain the word \"django\"\n",
    "\n",
    "for tweet in api.search(q = \"django\", lang = \"en\", rpp = 10):\n",
    "    print(f\"{tweet.user.name}:{tweet.text}\")"
   ]
  },
  {
   "cell_type": "code",
   "execution_count": null,
   "metadata": {},
   "outputs": [],
   "source": [
    "# list world wide trending topics\n",
    "trends_result = api.trends_place(1)\n",
    "for trend in trends_result[0][\"trends\"]:\n",
    "    print(trend[\"name\"])"
   ]
  },
  {
   "cell_type": "code",
   "execution_count": null,
   "metadata": {},
   "outputs": [],
   "source": [
    "# fetch 10 tweets in which I am mentioned and then make each tweet as liked and follow author\n",
    "tweets = api.mentions_timeline()\n",
    "for tweet in tweets:\n",
    "    tweet.favorite()\n",
    "    tweet.user.follow()"
   ]
  },
  {
   "cell_type": "code",
   "execution_count": 15,
   "metadata": {},
   "outputs": [
    {
     "output_type": "stream",
     "name": "stdout",
     "text": "♡ said: RT @UniqueAge3: 🕹✨ ALL OF YOUR FAVORITE OLD SCHOOL 8 BIT RETRO CLASSIC VIDEO GAMES...IN YOUR PALM!! Easy to carry everywhere!! \nShop Now👉 h…\nJudith said: With no shame. 🤣🤣 https://t.co/iNRpFdygvC\nNyandarua's Finest said: RT @lorkodi: This is so easy and now I can access all my favourite hits instantly when I need them #TraceLive\naleckie ronald said: RT @mwabilimwagodi: So guys Rachel Mwikali is a Social Rights Activist in Mathare Area 4. You can Mpesa her on 0723764748 to assist the les…\nBecca💨💨 said: #FF @Kanna_Katie\nBusinessDaily said: Building Africa’s data science talent pool https://t.co/JbFN1TqB5I https://t.co/txPisjxOHR\n🎼Goodness of God🎶 said: RT @teeleaf__: Men who hate wigs, weave and braids usually only like one type of natural hair and it certainly isn't 4b/c.\nBenji Ndolo said: This is the dilemma... 🤷🏽‍♂️ https://t.co/FkKC0AgAjx\nBecca💨💨 said: #FF @1SunnySideSue\nTIME said: \"The mother’s pay gap is a result of a combination of factors, and each one is more insidious for women of color,\"… https://t.co/UdSC3xvXPb\nM said: RT @aizuddin_anuar: Malam tadi saya join talk ni anjuran @FadiahNadwa &amp; co. Prof. Mohan bentangkan isu rasisme di #Malaysia dlm konteks mel…\nAl Jazeera English said: ⚡ #GeorgeFloyd protests: Latest updates 👇\n\nFollow our LIVE blog for the latest developments: https://t.co/h1tioxlVKo https://t.co/bpEqOrMB92\nDO said: Generational wealth things. https://t.co/XLNMAu0uzA\nBecca💨💨 said: RT @1SunnySideSue: @OldeHippieDude @monstervoyage @enriquillo2 @Rosie_2222 @jill_magnussen @m_ainihi @Hippie_of_Love @Alisazvezdica99 @Cath…\nBecca💨💨 said: #FF @Kunzitoons\nMa3Route said: 18:31 Kariobangi no 36. Komarock Road Flow.  https://t.co/bLjer2V2aw via @JacobAbere\nsir-rap-alot said: RT @KwaniWassup: The way BigFish ilikuwa imejaa leo.... Love to see it 😍😍😍 Congratulations @osumo_brad\nBecca💨💨 said: #FF @KattKunzi\nReuters said: Q1: What are the demands of the protesters?\n\nhttps://t.co/U384Jyii9n\nCarol Radull said: Happy 23rd Birthday to Arsenal left-back Kieran Tierney. #TheScoreKE https://t.co/4OfDYE2bdP\nMa3Route said: 18:30 Kariobangi no 36. Komarock Road Flow.  https://t.co/DGX3Tb83Gx via @JacobAbere\nDaily Caller said: Joe Biden: 10-15% Of Americans Are ‘Not Very Good People’ https://t.co/tMptuK1pEI\nFAO Forestry said: #FAO #Forestry helps launch Living Chapel installation https://t.co/VNGbJrSovD #WorldEnvironmentDay https://t.co/0EBIybxrxR\nCNN International said: Coronavirus patients with high blood pressure have twice the risk of dying from the infection, an international stu… https://t.co/C4ECbUmE97\nThe Wall Street Journal said: Millions of workers have proved they can do their jobs at home for now. But as more managers come to accept the rea… https://t.co/maDqS1Jwsw\nBrian Mbunde ™ said: RT @DCI_Kenya: ...center along Namanga- Nairobi higway.\n\nThe suspects are in lawful custody pending further police action. Further investig…\nBrian Mbunde ™ said: RT @DCI_Kenya: Three suspects namely Moses Koite aged 26 years who was driving a motor vehicle registration number KBM 880 U, a Toyota Noah…\nThe Economist said: Governments fighting proxy wars in Yemen and Afghanistan should encourage temporary truces to help curb the pandemi… https://t.co/eVj3LB27MT\nABC News said: Artists created a Black Lives Matter mural outside a store in Portland, Oregon, featuring the names of George Floyd… https://t.co/eAO9z1Khfe\nKiss 100 Kenya said: Set your reminder now! You cannot afford to miss this.\nStarting tomorrow, @KameneGoro &amp; @ShaffieWeru will be hostin… https://t.co/UY0U6EAb5G\nDaily Nation said: JUST BRENDA: My girlfriend is fat https://t.co/NY1iXL7dZ9\nBBC Sport said: Hibernian and Hearts are considering an offer from Scottish Rugby to play some of their league matches at Murrayfie… https://t.co/RtCtyzKmB3\nReuters said: People take part in the 'Fridays for Future' movement against climate change. See more @ReutersPictures… https://t.co/vexDXJaISE\nKenyaMOJA.com said: https://t.co/bA5s4lImmk: Uhuru Raises Alarm Over Rising Debt Levels\nhttps://t.co/tHqRoiHlKY\nChannels Television said: Minister of Works and Housing, Babatunde Fashola, will join @seunokin again today on #PoliticsToday to continue to… https://t.co/wyIULcaYi3\nBrian Mbunde ™ said: RT @YouLoveLeona: Don't take your graduation pics with your boyfriend\nBoniface Mwangi said: Shree Cutch Satsang Academy is a non profit making education institute located in Langata, off the southern bypass.… https://t.co/oci45h6l9W\nBecca💨💨 said: RT @KattKunzi: @Hippie_of_Love Love it ❤️❤️❤️❤️❤️\nallAfrica.com said: Outrage Over Minister Kazembe Remarks @263Chat: https://t.co/fBA2tAonsC #Zimbabwe https://t.co/wf08hzWIDK\nNBS said: smoke at home. As a government, our primary responsibility is to educate the public on the dangers of using tobacco… https://t.co/9a5PXFKkBs\nReuters said: Brexit trade talks make 'no significant progress' as deadline nears https://t.co/lenvPXON2D https://t.co/OMLBJl7No8\nBrian Mbunde ™ said: lol.......Niponge nisiponge? https://t.co/Qg56lu55cw\nNBS said: The 2018 Tanzania GATS shows that overall 8.7 percent (2.6 million adults), 14.6 percent men and 3.2 percent women… https://t.co/oSNZnFEhCX\nBecca💨💨 said: RT @lynmonday: @Hippie_of_Love Thanks #Ff Becca!\nNewsDay Zimbabwe said: RT @sentinelzim: #Latest:  @policezimbabwe have arrested  MDC Alliance vice presidents @BitiTendai  &amp; @KarenyiKore among other party offici…\nM said: RT @the1janitor: so uh apparently kanye has been running the long con this whole time??? https://t.co/ukQRfexQBx\nChannels Television said: Court Affirms INEC’s Powers To Deregister Political Parties\nhttps://t.co/BMUAaEFdTr https://t.co/aI07Vdn88t\nsir-rap-alot said: RT @Geographyy_: A thread on #Bitlipa\nM said: RT @ForAllNerds: Can someone please tell us who made this so we can buy them a drank? 🙏🏾🙏🏾🙏🏾 https://t.co/au9O1ftHIP\nForbes said: Here's how business leaders can step up as allies for the black community: https://t.co/L7xc8FILMr https://t.co/GwZ2lZ2NWO\nChina Xinhua News said: China's Tianjin further lowers #COVID19 emergency response level https://t.co/A6VQFOBD5N https://t.co/KsVJ6yp27t\nsir-rap-alot said: RT @Kokodave_: Lmao @OsamaOtero na @ItsJeffreyJeff  mko na Tv lakini hamna Bitcoins 😭😭😭😭😭 . https://t.co/PW7QAJxSUV\nt said: RT @MarcusRashford: Happy birthday my guy @Santandave1  \nHave a good one bro 👊🏾♥️ https://t.co/BPvYCDAFUO\nCGTN said: D.C. Mayor @MayorBowser requests #Trump to remove federal law enforcement, military presence\n\n#GeorgeFloyd https://t.co/UZZkn3xXVA\nSocial Experiment said: kitu safi iende chain chain\nSK said: Huh! What a day! Still in meetings... but oh lovely client!\nShosho Light said: RT @brianmutinda_: Anything you can do to help hata kama ni RT will be greatly appreciated.🙏❤ https://t.co/UxYOpgWz7f\nDO said: RT @JamesTodaroMD: Free speech on social media should be a fundamental right\n\nIn weeks, independent researchers worldwide went against orga…\nTEARDROPS THE GREAT OFFICIAL 🇰🇪 said: Wageni wako za , hii chai inataste fishy https://t.co/B8Wk6Xqdgc\nDonald B Kipkorir said: Once you accept to take money to change your Loyalty, Beliefs, Principles, Morals, Ethics, Faith et al, then you ha… https://t.co/5p11LHmk67\nR for Data Science said: RT @moh_fodil: Happy to announce that I'm now a Certified Shiny Instructor \n\nThank you very much  @gvwilson  and @rstudio  for the great ex…\nBecca💨💨 said: RT @Godzmazter: @OneFallenAngelM @operator55_11 @DJ05434880 @johnshute_ @jblongbeard @spearster55 @Marishinigami_ @popsablaze @CaliFarmerMa…\nCyanide Edzil said: RT @Arsenal: No messin' https://t.co/Sp7QpvimTi\nDO said: How to build a business with debt and sell when the hype cycle has caught up with at epic valuation and minimal dil… https://t.co/P9Na3ZdohT\nBrian Mbunde ™ said: RT @radricadavis_: You know whose lives don’t matter? Pedophiles. Rapists. Child abusers.\nChina Xinhua News said: Residents in Hong Kong sing the Chinese national anthem loud, to celebrate the passage of the National Anthem Bill. https://t.co/CIILaYQWxT\nDCI KENYA said: The same suspect has been charged with other offences relating to FAKE tenders at Afya House, and was nabbed at the… https://t.co/wnYRpcxvbT\nDCI KENYA said: The victim went ahead to purchase the items and delivered them to a parastatal vehicle near Agip House as directed.… https://t.co/ydcpCPrTPJ\nDCI KENYA said: While posing as a procurement officer working with the Ministry of Interior &amp; Co-ordination of National Government… https://t.co/38aVAMrili\nR for Data Science said: RT @andre_peralta: @noamross I always though data.table in #rstats was good in handling large csv files, but apparently it’s not\nDCI KENYA said: Mercy Waihiga Wanjiku alias Linda was early today arrested at Milimani Law Courts by @DCI_Kenya Parklands Detective… https://t.co/I7nO8nSgYe\nShosho Light said: @JICHOdaDOG @SlyWanjira Jinga\nCyanide Edzil said: @JICHOdaDOG @SlyWanjira 😂😂😂\nallAfrica.com said: Zimbabwe Opposition Politicians Biti and Karenyi Arrested @263Chat: https://t.co/Zmu9xZdedU #Zimbabwe @BitiTendai… https://t.co/VMot0lkmRj\nmedRxiv said: SWATH-MS based proteomic profiling of Pancreatic Ductal Adenocarcinoma tumours reveals the interplay between the ex… https://t.co/IKf9r2fg0N\nsir-rap-alot said: This one is,so pretty\nAndy Capp said: RT @JuniorSam09: @WorldofAndyCapp @hmamadi Legend ????\nBruce said: Meanwhile - KQ. https://t.co/eLHw3Vpoxs\nR for Data Science said: RT @mdancho84: I’m EXTACTIC 😃  to announce the release of #timetk version 2.0.0. This is the 1st article in a series that covers how you ca…\nBecca💨💨 said: RT @B0SSLADY356: @Daniel_Rocs @Hippie_of_Love @hitsfrmthabong @CaffeineCannab1 @beauty2theblunt @maxedge051 @gerrybill @stoneteacher420 @Ca…\nVanguard Newspapers said: Unguwan Sarkin Musulmi, a unique haven for emirs in Kaduna https://t.co/o7qerk1Oxn #vanguardnews https://t.co/I2qnDy1ySy\nVanguard Newspapers said: Armed robbers snatch N1m from crayfish dealer in Delta https://t.co/FA9VxoqNBt #vanguardnews https://t.co/7H7PdpasVT\nVanguard Newspapers said: ACF condemns attack on Kajuru https://t.co/8DBqsp7qO0 #vanguardnews https://t.co/HGrtNIHJqV\nVanguard Newspapers said: Agusto affirms Coronation Merchant Bank’s rating at A+ with Stable Outlook https://t.co/WqFHBfaZUK #vanguardnews https://t.co/VjC4VkUYdF\nVanguard Newspapers said: Girl, 17 arrested with her 25 years old boyfriend for faking her own kidnapping https://t.co/3BZsauVe1C… https://t.co/ET25MSeb0F\nVanguard Newspapers said: Ortom, Suswam, others not defecting to APC — PDP chair https://t.co/Hsh1Wd77JS #vanguardnews https://t.co/JhbUMRY3PK\nVanguard Newspapers said: US gains 2.5 mn jobs in May, unemployment falls despite pandemic https://t.co/XztD2SzsOc #vanguardnews https://t.co/SN2zqfuqvH\nVanguard Newspapers said: 13 rescued, as police launch manhunt for pirates who hijacked passenger boat https://t.co/wB3cd0OHmM #vanguardnews https://t.co/xlBAcnrPhE\nsir-rap-alot said: RT @stillBiIl: Twitter huwa na bad vibes 😂😂 https://t.co/zxjN7KIpF1\nJoy 99.7 FM said: #COVID19 PREVENTIVE MEASURES:\n\n1.     STAY home as much as you can\n\n2.     KEEP a safe distance\n\n3.     WASH hands… https://t.co/fhQkVxnmgr\nAndy Capp said: RT @kawasnn: Daily dose of @WorldofAndyCapp 🤣🤣🤣 https://t.co/EqPOEPzF5o\nBecca💨💨 said: #FF @tropicaltalker\nAndy Capp said: RT @MuthuriNene: @WorldofAndyCapp You got the nerve 🤣🤣\nAndy Capp said: RT @athigah: I suggest the street with the unemployment benefits claims agency.\nAndy Capp said: RT @odngkr: 😂😂😂 Ah, he's taking a right piss. Fair enough.\nBecca💨💨 said: RT @tropicaltalker: @Hippie_of_Love TGIFF hope you’re doing well. #FridayFeeling https://t.co/HkizfNhBOH\nAndy Capp said: RT @lenong_pule: @WorldofAndyCapp Bone idle Avenue 🤣🤣🤣🤣🤣🤣🤣🤣🤣🤣🤣🤣🤣\nCyanide Edzil said: kwani how do you guys pick calls? I say \"Yes....\" and I have just been told I respond like a receptionist https://t.co/pekDIlCQBj\nCyanide Edzil said: Tunaumia https://t.co/Mnog7OCOBW\nA.I Records (K) Ltd said: #MidnightTrain makes it's first stop at @thetrendlive with @aminaabdirabar on @ntvkenya tonight at 10pm EAT.… https://t.co/oeLlPTgVKJ\n"
    }
   ],
   "source": [
    "for tweet in tweepy.Cursor(api.home_timeline).items(100):\n",
    "    print(f\"{tweet.user.name} said: {tweet.text}\")"
   ]
  },
  {
   "cell_type": "code",
   "execution_count": 1,
   "metadata": {},
   "outputs": [],
   "source": [
    "os.get"
   ]
  }
 ],
 "metadata": {
  "language_info": {
   "codemirror_mode": {
    "name": "ipython",
    "version": 3
   },
   "file_extension": ".py",
   "mimetype": "text/x-python",
   "name": "python",
   "nbconvert_exporter": "python",
   "pygments_lexer": "ipython3",
   "version": "3.7.4-final"
  },
  "orig_nbformat": 2,
  "kernelspec": {
   "name": "python37464bit3c75b55b43c54202b665176ba7e14120",
   "display_name": "Python 3.7.4 64-bit"
  }
 },
 "nbformat": 4,
 "nbformat_minor": 2
}